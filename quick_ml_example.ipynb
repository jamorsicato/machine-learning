{
 "cells": [
  {
   "cell_type": "markdown",
   "id": "interpreted-episode",
   "metadata": {},
   "source": [
    "Quick ML Follow along for Classifier \n",
    "\n",
    "ANIMATE THIS\n",
    "- make a play through overview of what ml is and what a classifier ml algo does\n",
    "- explain what gamma is? change it and show edge cases with model (really high and low gamma)\n",
    "- explain what C is. \n",
    "\n",
    "This is basic classifier algorithm \n",
    "\n",
    "Could I animate a tutorial for this in my read me?\n",
    "https://towardsdatascience.com/i-used-code-to-create-animation-heres-how-a7c7cd88fccd\n",
    "https://css-tricks.com/tips-for-writing-animation-code-efficiently/\n",
    "\n",
    "\n",
    "# OVERVIEW\n",
    "\n",
    "- build classifier \n",
    "    - gamma is kinda the number of jumps until you find the answer\n",
    "    - small gamma slower algo \n",
    "    - big gamma faster algo, less acurate\n",
    "- get data \n",
    "- fit data \n",
    "- predict data \n",
    "- check prediction results \n"
   ]
  },
  {
   "cell_type": "code",
   "execution_count": 1,
   "id": "expanded-valuation",
   "metadata": {},
   "outputs": [],
   "source": [
    "import matplotlib.pyplot as plt\n",
    "from sklearn import datasets\n",
    "from sklearn import svm #support vector machine "
   ]
  },
  {
   "cell_type": "code",
   "execution_count": 2,
   "id": "meaning-aquatic",
   "metadata": {},
   "outputs": [],
   "source": [
    "# import dataset \n",
    "digits = datasets.load_digits()"
   ]
  },
  {
   "cell_type": "code",
   "execution_count": 3,
   "id": "enhanced-feedback",
   "metadata": {},
   "outputs": [
    {
     "name": "stdout",
     "output_type": "stream",
     "text": [
      "1797\n",
      "1787\n",
      "1787\n",
      "Prediction: [8]\n"
     ]
    }
   ],
   "source": [
    "#make classifier \n",
    "\n",
    "clf = svm.SVC(gamma=0.0001, C=100) #what is gamma? #what is C?\n",
    "\n",
    "print(len(digits.data))\n",
    "# get data and target \n",
    "x,y = digits.data[:-10], digits.target[:-10] # all the way to the last of the data \n",
    "\n",
    "print(len(x))\n",
    "print(len(y))\n",
    "\n",
    "#fit classifier, this is where we are training the data\n",
    "clf.fit(x,y)\n",
    "\n",
    "# #call for a prediction \n",
    "print('Prediction:',clf.predict(digits.data[[-7]])) #predicts on what the image is showing (a number 8?)"
   ]
  },
  {
   "cell_type": "code",
   "execution_count": 4,
   "id": "voluntary-faith",
   "metadata": {},
   "outputs": [
    {
     "data": {
      "image/png": "[encoded data removed]",
      "text/plain": [
       "<Figure size 432x288 with 1 Axes>"
      ]
     },
     "metadata": {
      "needs_background": "light"
     },
     "output_type": "display_data"
    }
   ],
   "source": [
    "# plot prediction\n",
    "plt.imshow(digits.images[-7],cmap=plt.cm.gray_r,interpolation=\"nearest\")\n",
    "plt.show() "
   ]
  },
  {
   "cell_type": "code",
   "execution_count": null,
   "id": "expressed-sharing",
   "metadata": {},
   "outputs": [],
   "source": []
  }
 ],
 "metadata": {
  "kernelspec": {
   "display_name": "Python 3",
   "language": "python",
   "name": "python3"
  },
  "language_info": {
   "codemirror_mode": {
    "name": "ipython",
    "version": 3
   },
   "file_extension": ".py",
   "mimetype": "text/x-python",
   "name": "python",
   "nbconvert_exporter": "python",
   "pygments_lexer": "ipython3",
   "version": "3.8.5"
  }
 },
 "nbformat": 4,
 "nbformat_minor": 5
}
