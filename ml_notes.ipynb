{
 "cells": [
  {
   "cell_type": "markdown",
   "id": "limiting-bouquet",
   "metadata": {},
   "source": [
    "### ML Notes\n",
    "\n",
    "\n",
    "__What is Artificial Intelligence (AI):__ The computer science definition is the study of *intelligence agents*. Any device that takes in input to maximize its decisions. Intelligence displayed by machines. The name for an AI that mimicks human inteligence is *Strong AI* or *Artificial General Inteligence (AGI)*. Coloquiolly people say AI is anything where a computer trys to mimic cognitive function. Often AI is anything that hasnt been done yet, we use to think of it as any computer program that could beet a human at chess and that would be AI, but obviously thats not true. AI is a more catch all term for the study of trying to replicate human inteligence, while machine learning is the study of building alogrithms that teach themselves.\n",
    "\n",
    "__What is Machine Learning (ML):__ The study of using compouter algorithms that automatically get better with experience. ML is apart of AI, but not all AI is ML. ML models built a model based on a training set of data and test the model on a test set. All from data that is already gathered. A subset of ML that focuses on making predicitons with computers is closely realted to computational statistics. ML is also referred to as __Predictive Analytics__ in some fields.\n",
    "\n",
    "__What is Deep Learning:__ Deep learning is a subfield of ML that focuses on artificial neural networks. Deep learning may be a large missing piece in AGI when paired with faster quantum computer. Deep learning is essentially referring to a deep neural network.\n",
    "\n",
    "![AI Versus ML VDG](data/ai_vs_ml.png)\n",
    "\n",
    "### What Toolkits I need to be familiar with (I found these on Job Applications)\n",
    "- NumPy\n",
    "- SciPy\n",
    "- Scikit-learn\n",
    "- TensorFlow\n",
    "- Spark ML\n",
    "\n",
    "### What I need to know (Also foun these on Job Applications)\n",
    "\n",
    "- k-NN \n",
    "- Naive Bayes\n",
    "- SVM \n",
    "- Decision Forests\n",
    "- Gradient Boosted Decisions trees Ensembling\n",
    "- Neural Networks\n",
    "- clustering techniques\n"
   ]
  },
  {
   "cell_type": "markdown",
   "id": "naval-viewer",
   "metadata": {},
   "source": [
    "# Types of Machine Learning\n",
    "## Learning Problems\n",
    "### Supervised Learning\n",
    "\n",
    "- Training data comprises examples of input vectors along with corresponding target values \n",
    "- Models are fit using training data and tested on a test data set \n",
    "- Can have 1 or more input variable\n",
    "- Input may be any type of data \n",
    "\n",
    "__Classification:__ Supervised problems that work to predict a class label.(Classify the data set) An example of this would be trying to read handwritten digits. __Logistical Regression__ is an algorithm designed for classification problems.\n",
    "\n",
    "__Regression:__ Supervised problems that work to predict a numerical value. An example of this would be trying to predict the price of a house based on input of neighborhood values and output of the price of the house. __Linear Regression__ is an algorithm designed for supervised regression problems.\n",
    "\n",
    "__Application__ great when we have a lot of data. Not inferior to other types of ML"
   ]
  },
  {
   "cell_type": "markdown",
   "id": "protective-family",
   "metadata": {},
   "source": [
    "### Unserpervised Learning\n",
    "\n",
    "- Involves using a model to describe or extract relationships in data\n",
    "- Operates purely on input data without targets\n",
    "\n",
    "\n",
    "__Clustering Unsupervised__ Finds groups in data. An example of this would be __K-means__ clustering to discover data. K-means clustering is very popular! Essentially it groups similar data points together and discover underlying points. An example of this would be a taxi company letting an agent decide variables for a good or bad traffic day without ever being gioven labaled data\n",
    "\n",
    "__Density Estimation__ Summarizes the distribution of data\n"
   ]
  },
  {
   "cell_type": "markdown",
   "id": "stuck-vegetable",
   "metadata": {},
   "source": [
    "### Reinforcement Learning\n",
    "\n",
    "## Hybrid Learning Problems\n",
    "### Semi-supervised Learning \n",
    "### Self-supervised Learning\n",
    "### Multi-Instance Learning\n",
    "\n",
    "## Statistical Interference\n",
    "### Inductive Learning\n",
    "### Deductive Learning\n",
    "### Transductive Learning\n",
    "\n",
    "## Learning Techniques\n",
    "### Multi-Task Learning\n",
    "### Active Learning\n",
    "### Online Learning\n",
    "### Transfer Learning\n",
    "### Ensemble Learning"
   ]
  },
  {
   "cell_type": "markdown",
   "id": "saving-telescope",
   "metadata": {},
   "source": [
    "## Convolutional Neural Network \n",
    "\n",
    "__Motivation__\n",
    "- can train them with youtube videos\n",
    "- can train them with reinforcement learning\n",
    "- can train them with high or low resolution imagery\n",
    "\n",
    "__Libraries__\n",
    "- Tensor Flow: good for large projects and is vertically integratable\n",
    "- PyTorch: Good for getting something up and running fast\n",
    "\n",
    "\n",
    "__Basic Overview__ \n",
    "\n",
    "- Construction Phase: Build Graph\n",
    "- Execution phase: \n",
    "- used for any 2d,3d,4d data. You could even use this on something like sound or text. \n",
    "- Unlike a fully connected neural network like MLP, the locality of data within the input vector (or matrix),is important (This is why I can use a CNN for a for my Bitcoin Trading A)\n",
    "\n",
    "convolution\n",
    "- compiles learning from matrix of images\n",
    "- images are compared using small little windows of the bigger image through filtering \n",
    "- filter adds up and averages values for each sliding window portion of greater image\n",
    "\n",
    "pooling (Subsampaling Layer)\n",
    "- essentially shrinks convolved image by taking maximum value from small 3 by 3 windows\n",
    "- this shrinks our stack of images\n",
    "- CNN-TA is a package used for building filter,  sizes of the filter: (3X3),(4X4),(5X5), but a smaller filter will pick up much more detailed information.\n",
    "\n",
    "Normalizaion\n",
    "- changes all negative values to 0 \n",
    "\n",
    "\n",
    "After these three steps we actually stack all of the layers so the output of 1 turns into the inout of another. Note that each iteration through the pooling step will reduce size. \n",
    "\n",
    "We can make a deep stack if for a more refined model\n",
    "\n",
    "In a fully connected layer, the refined deep stack will be connected to different output. So we can then use the model to predict what a new input will be connect to. These are controlled by __voting weights__\n",
    "\n",
    "__Backpropogation__: \n",
    "\n",
    "__Gradient Descent (add negative parabola graph)__\n",
    "\n",
    "__Hyperparameters__ \n",
    "- convolution {number of features, size of features}\n",
    "- pooling {window size, window stride}\n",
    "- fully connected{number of neurons}\n",
    "- how many layers?\n",
    "- what order? \n",
    "\n",
    "LIMITATIONS\n",
    "- really only designed to capture local spatial patterns\n",
    "- if the data cant look like an image, you cant use CNN\n",
    "- CNN are great at finding patterns and using them to classify problems, but if you data can be rearanged its not useful.\n",
    "\n",
    "\n"
   ]
  },
  {
   "cell_type": "code",
   "execution_count": 2,
   "id": "adjusted-contribution",
   "metadata": {},
   "outputs": [
    {
     "ename": "SyntaxError",
     "evalue": "invalid syntax (<ipython-input-2-5a497f6c3d2d>, line 12)",
     "output_type": "error",
     "traceback": [
      "\u001b[0;36m  File \u001b[0;32m\"<ipython-input-2-5a497f6c3d2d>\"\u001b[0;36m, line \u001b[0;32m12\u001b[0m\n\u001b[0;31m    \"Pooling\"               : \"Part of Convolutional Nerual Networks. Pooling comes after the image is convolved and takes the maximum value in a N*N window to reduce the size of the image.\"\u001b[0m\n\u001b[0m                            ^\u001b[0m\n\u001b[0;31mSyntaxError\u001b[0m\u001b[0;31m:\u001b[0m invalid syntax\n"
     ]
    }
   ],
   "source": [
    "# Vocabulary\n",
    "# make a ml dictionary and a study card program below\n",
    "\n",
    "ml_dict = {\n",
    "    \"Artificial Inteligence\": \"the study of intelligence agents. Any device that takes in input to maximize its decisions\",\n",
    "    \"Machine Learning\"      : \"The study of using compouter algorithms that automatically get better with experience\",\n",
    "    \"Deep Learning\"         : \"Deep learning is a subfield of ML that focuses on artificial neural networks\",\n",
    "    \"Classification\"        : \"A type of supervised machine learning that trys to classify data and label it\",\n",
    "    \"Regressiion\"           : \"A type of supervised machine learning that takes input variables and predicts a numerical value\",\n",
    "    \"K-means clustering\"    : \"An unsupervised algorithm that groups data into k numbers of clusters\",\n",
    "    \"Convolution\"           : \"A method of filtering that convolves a small X*X filter with the larger Y*Y image. The result essentially is an averaged image of initial input image\"\n",
    "    \"Pooling\"               : \"Part of Convolutional Nerual Networks. Pooling comes after the image is convolved and takes the maximum value in a N*N window to reduce the size of the image.\"\n",
    "    \"Normalization\"         : \"Need to add a beter definition for this: normalization creates a standard for all data in the window to be modeled after\"\n",
    "    \"CNN graph\"             : \"\"\n",
    "}\n"
   ]
  },
  {
   "cell_type": "markdown",
   "id": "mathematical-singer",
   "metadata": {},
   "source": [
    "__RESOURCES:__\n",
    "- [AI](https://en.wikipedia.org/wiki/Artificial_intelligence)\n",
    "- [Quantum Machine Intelligence](https://link.springer.com/article/10.1007/s42484-019-00006-5)\n",
    "- [What Estimator to Use](https://scikit-learn.org/stable/tutorial/machine_learning_map/index.html)\n",
    "- [Machine Learning Info](https://machinelearningmastery.com/types-of-learning-in-machine-learning/)\n",
    "    "
   ]
  }
 ],
 "metadata": {
  "kernelspec": {
   "display_name": "Python 3",
   "language": "python",
   "name": "python3"
  },
  "language_info": {
   "codemirror_mode": {
    "name": "ipython",
    "version": 3
   },
   "file_extension": ".py",
   "mimetype": "text/x-python",
   "name": "python",
   "nbconvert_exporter": "python",
   "pygments_lexer": "ipython3",
   "version": "3.8.5"
  }
 },
 "nbformat": 4,
 "nbformat_minor": 5
}
