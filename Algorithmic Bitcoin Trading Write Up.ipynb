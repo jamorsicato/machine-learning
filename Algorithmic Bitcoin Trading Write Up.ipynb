{
 "cells": [
  {
   "cell_type": "markdown",
   "id": "found-requirement",
   "metadata": {},
   "source": [
    "Layout\n",
    "\n",
    "Short Title: __Convolutional Neural Networks for Financial Modeling__\n",
    "Insightful Subtitile: __Building a labled image for use in trainig a CNN.__\n",
    "\n",
    "\n",
    "1) why does this story need to ne told? I am sharing my bitcoin price prediction project becasue of the large influx of retail investors interested in crypto currency and machine learning. Using a CNN for use in algorithmic trading is a relatively new concept and think its could be very useful in the future of trading with a large enough data set\n",
    "\n",
    "2) Why am I sharing? I had a great time building this project and I think that it could be good inspiratation for better version of the project. I am also realatively new to machine learning and I think this project was outside of my comfort zone and could be a good for people to see\n",
    "\n"
   ]
  },
  {
   "cell_type": "markdown",
   "id": "centered-florist",
   "metadata": {},
   "source": [
    "Intro:\n",
    "\n",
    "    - 1 paragraph with a strong hook for my use case. Why is this project important. Why regression models utilizing simple RSI, SMA, Bolinger Bang models are limited. What is in the current trend in financial modeling? \n",
    "    - Photo that highlights my project? (Maybe a conglomerate of images from my image creation)\n",
    "    \n",
    "Intro 2:\n",
    "\n",
    "    - how am I gonna prove my point and use case\n",
    "    - use links to scholarly articles supporting the idea\n",
    "    - limitations to my use case\n",
    "    \n",
    "Procedure breakdown\n",
    "\n",
    "    - How I will format my article (explain the upcoming layout)\n",
    "    - what steps I take in my code\n",
    "    - Touch on CNN design\n",
    "    - explain why each layer is used for my CNN\n",
    "    - testing my model\n",
    "    - drawing a conclusion\n",
    "    \n",
    "conclusion\n",
    "\n",
    "    - How did the model perform? What does each number in the prediction mean? What will i change in the future? How can I overcome the labeling issue? \n",
    "    \n",
    "    \n",
    "\n",
    "    \n"
   ]
  },
  {
   "cell_type": "markdown",
   "id": "western-reserve",
   "metadata": {},
   "source": [
    "# Convolutional Neural Networks for Financial Modeling\n",
    "### Building a labled technical analysis indicato image for us in training a CNN\n",
    "\n",
    "insert awesome picture (2 by 4 immage) of ta indicators\n",
    "<br/><br/>\n",
    "\n",
    "\n",
    "<div class=\"row\"> \n",
    "  <div class=\"photo/column\">\n",
    "    <img src=\"photo/cover1.png\">\n",
    "    <img src=\"photo/cover2.png\">\n",
    "    <img src=\"photo/cover3.png\">\n",
    "    <img src=\"photo/cover4.png\">\n",
    "\n",
    "  </div>\n",
    "  <div class=\"column\">\n",
    "    <img src=\"photo/cover5.png\">\n",
    "    <img src=\"photo/cover6.png\">\n",
    "    <img src=\"photo/cover7.png\">\n",
    "    <img src=\"photo/cover8.png\">\n",
    "  </div>\n",
    "</div>\n",
    "\n",
    "<br/><br/>\n",
    "#### Introduction\n"
   ]
  }
 ],
 "metadata": {
  "kernelspec": {
   "display_name": "Python 3",
   "language": "python",
   "name": "python3"
  },
  "language_info": {
   "codemirror_mode": {
    "name": "ipython",
    "version": 3
   },
   "file_extension": ".py",
   "mimetype": "text/x-python",
   "name": "python",
   "nbconvert_exporter": "python",
   "pygments_lexer": "ipython3",
   "version": "3.8.5"
  }
 },
 "nbformat": 4,
 "nbformat_minor": 5
}
