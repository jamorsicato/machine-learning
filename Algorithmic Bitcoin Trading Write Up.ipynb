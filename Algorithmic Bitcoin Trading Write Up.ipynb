{
 "cells": [
  {
   "cell_type": "markdown",
   "metadata": {},
   "source": [
    "# Convolutional Neural Networks for Financial Modeling\n",
    "### Building a labled technical analysis indicator image for use in training a CNN\n",
    "<br>\n",
    "<br>\n",
    "<img src=\"photo/cover.jpg\" width = \"80%\">\n",
    "<br>\n",
    "<br>\n",
    "\n",
    "### Introduction\n",
    "\n",
    "Bitcoin, cryptocurrency, and NFT's have overtaken headlines and made their way into conversations with huge financial corportation. In just the last year search words like, \"Pancake Swap\", \"Uniswap, \"NFT\", or \"Bitcoin\" have all reached peak interest scores of near 100 on the Google Trends indicator. I have long found these technologies fascinating and decided to combine my love for Machine Learning into an algorithmic Bitcoin trading project. This project is based on [this paper](https://www.researchgate.net/publication/324802031_Algorithmic_Financial_Trading_with_Deep_Convolutional_Neural_Networks_Time_Series_to_Image_Conversion_Approach). I also want to note that I made this project just for fun and the model is substantially too naive for real use.\n",
    "\n",
    "In trading stocks or crypto currency, excluding arbitrage, technical analysis indicators are heavily used for decision making. Usually they are displayed on time series graphs for evaluation, but this project turns 15 different indicators into a labeled time seires image to train a Convolutional Nerual Network model. \n",
    "\n",
    "### Dataset\n",
    "\n",
    "#### Labeling The Data \n",
    "<br/>\n",
    "The Dataset I am using for this is a simple bitcoin price CSV that I obtained from the Quandl API. After obtaining the data I labeled the data with a basic sliding window algorithm that picked the top and bottom of a 12 day window; labeling the highs with \"Sell\", the lows with \"buy\", and everything else as \"hold\". I considered using a moving average cross over or something similar, but was worried I wouldn't have enough information to train the CNN model. \n",
    "\n",
    "<img src=\"photo/btc_buy_sell.png\" width = \"110%\">\n",
    "\n",
    "#### Calculating TA Indicators\n",
    "Next off, I chose to use the following oscilation based TA indicators to calculate; RSI, Williams %R, WMA, EMA, SMA, HMA,Triple EMA, CCI, CMO, MACD, PPO, ROC, CMFI, DMI, and PSI. These indicators were all calculated using the \"ta\" package found [here](https://github.com/bukosabino/ta). Each indicator was made for individual days and placed in a pandas dataframe for image creation. The indictors also are time dependant and would not make any sense out of order, an important note for the creation of the CNN training image. Below is a matrix of all of the TA indicators that will be combined into each training image, the labeling of each graph follows the order listed above. \n",
    "\n",
    "<img src=\"photo/ta_indicators.png\" width = \"80%\">\n",
    "\n",
    "#### Image Creation\n",
    "The CNN Image is then made using the 15 TA indicators for a 15 day timespan. The result is a 15 by 15 image that is directional in nature. Seen below is an example of what each image looks like, I included the lable in the title of each png. When creating all of my images I made the mistake of rendering them at too high of a resolution, it took my computer two days to build all of them wihtout a GPU. \n",
    "\n",
    "<img src=\"photo/image_indicators.png\" width = \"75%\">\n",
    "\n",
    "### The Model\n",
    "\n",
    "As this is just a write-up I will not go too in depth on the construction of the CNN model itself as it is heavily covered all over the internet, but I did follow the same layering method that is mentioned in this [research paper](https://www.researchgate.net/publication/324802031_Algorithmic_Financial_Trading_with_Deep_Convolutional_Neural_Networks_Time_Series_to_Image_Conversion_Approach). The layers were as follows;\n",
    "\n",
    "\n",
    "<img src=\"photo/model.png\" width = \"55%\">\n",
    "\n",
    "If you'll notice the input shape of the images in the begining layer is substantially larger than I would have liked. This was my own fault and as I refine this project I will fix it to run more efficiently. Two ways I trained my model to be effected were; 1) using data augmentaion from the data generater method in Tensor Flow to build multiple perspectives on the same image and 2) using a sliding window batch method that followed a small 4 year training batch with a 2 year test batch and then moved the whole process over 1 year. This resulted in re-training my model 4 more times after the initial training. \n",
    "\n",
    "### Conclusion\n",
    "\n",
    "While this is an interested thought experiment, there is one huge problem I found with training my CNN using this data set. Nearly all of the data is only labeled \"HOLD\", so the CNN does not get enough experience to efficiently learn the patterns that build a \"Buy\"/\"Sell\" flag. There may be a few solutions to fix this in the future projects. One idea I had was to use another data set in tandem with the TA indicator set to train a seperate CNN. Then use the results to make a \"democratic\" vote as to if the AI should Buy/Sell/Hold on any given day. This does offer an interesting opportunity for a non-normal application of a CNN to financial trading. Usual big finance does not use options like this because they have not yet been proved dependable, but there could be viable soluitons with more work.  \n",
    "\n",
    "\n",
    "\n",
    "\n",
    "    "
   ]
  }
 ],
 "metadata": {
  "kernelspec": {
   "display_name": "Python 3",
   "language": "python",
   "name": "python3"
  },
  "language_info": {
   "codemirror_mode": {
    "name": "ipython",
    "version": 3
   },
   "file_extension": ".py",
   "mimetype": "text/x-python",
   "name": "python",
   "nbconvert_exporter": "python",
   "pygments_lexer": "ipython3",
   "version": "3.8.5"
  }
 },
 "nbformat": 4,
 "nbformat_minor": 5
}
