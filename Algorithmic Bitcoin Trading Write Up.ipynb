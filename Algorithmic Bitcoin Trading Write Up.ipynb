{
 "cells": [
  {
   "cell_type": "markdown",
   "id": "found-requirement",
   "metadata": {},
   "source": [
    "Layout\n",
    "\n",
    "Short Title: __Convolutional Neural Networks for Financial Modeling__\n",
    "Insightful Subtitile: __Building a labled image for use in trainig a CNN.__\n",
    "\n",
    "\n",
    "1) why does this story need to ne told? I am sharing my bitcoin price prediction project becasue of the large influx of retail investors interested in crypto currency and machine learning. Using a CNN for use in algorithmic trading is a relatively new concept and think its could be very useful in the future of trading with a large enough data set\n",
    "\n",
    "2) Why am I sharing? I had a great time building this project and I think that it could be good inspiratation for better version of the project. I am also realatively new to machine learning and I think this project was outside of my comfort zone and could be a good for people to see\n",
    "\n"
   ]
  },
  {
   "cell_type": "markdown",
   "id": "centered-florist",
   "metadata": {},
   "source": [
    "Intro:\n",
    "    - 1 paragraph with a strong hook for my use case. Why is this project important. Why regression models utilizing simple RSI, SMA, Bolinger Bang models are limited. What is in the current trend in financial modeling? \n",
    "    - Photo that highlights my project? (Maybe a conglomerate of images from my image creation)\n",
    "Intro 2:\n",
    "    - how am I gonna prove my point and use case\n",
    "    - use links to scholarly articles supporting the idea\n",
    "    - limitations to my use case\n",
    "    \n",
    "Procedure breakdown\n",
    "    - How I will format my article\n",
    "    - what steps I take in my code\n",
    "    - Touch on CNN design\n",
    "    - explain why each layer is used for my CNN\n",
    "    \n"
   ]
  }
 ],
 "metadata": {
  "kernelspec": {
   "display_name": "Python 3",
   "language": "python",
   "name": "python3"
  },
  "language_info": {
   "codemirror_mode": {
    "name": "ipython",
    "version": 3
   },
   "file_extension": ".py",
   "mimetype": "text/x-python",
   "name": "python",
   "nbconvert_exporter": "python",
   "pygments_lexer": "ipython3",
   "version": "3.8.5"
  }
 },
 "nbformat": 4,
 "nbformat_minor": 5
}
