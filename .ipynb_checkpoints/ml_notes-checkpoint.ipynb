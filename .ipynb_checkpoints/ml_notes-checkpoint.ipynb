{
 "cells": [
  {
   "cell_type": "markdown",
   "id": "limiting-bouquet",
   "metadata": {},
   "source": [
    "### ML Notes\n",
    "\n",
    "\n",
    "__What is Artificial Intelligence (AI):__ The computer science definition is the study of *intelligence agents*. Any device that takes in input to maximize its decisions. Intelligence displayed by machines. The name for an AI that mimicks human inteligence is *Strong AI* or *Artificial General Inteligence (AGI)*. Coloquiolly people say AI is anything where a computer trys to mimic cognitive function. Often AI is anything that hasnt been done yet, we use to think if it a computer program could beet a human at chess that it would be AI, but thats obviously not true. AI is a more catch all term for the study of trying to replicate human inteligence, while machine learning is the study of building alogrithms that teach themselves.\n",
    "\n",
    "__What is Machine Learning (ML):__ The study of using compouter algorithms that automatically get better with experience. ML is apart of AI, but not AI is ML. ML models built a model based on a training set of data and test the model on a test set. All from data that is already gathered. A subset of ML that focuses on making predicitons with computers is closely realted to computational statistics. ML is also referred to as __Predictive Analytics__ in some fields.\n",
    "\n",
    "__What is Deep Learning:__ Deep learning is a subfield of ML that focuses on artificial neural networks. Deep learning may be a large missing piece in AGI when paired with faster or event quantum computer. Deep learning is essentially referring to a deep neural network \n",
    "\n",
    "\n",
    "![AI Versus ML VDG](data/ai_vs_ml.png)\n",
    "\n",
    "\n",
    "\n",
    "\n",
    "### Supervised Learning"
   ]
  },
  {
   "cell_type": "markdown",
   "id": "mathematical-singer",
   "metadata": {},
   "source": [
    "__RESOURCES:__\n",
    "- [AI](https://en.wikipedia.org/wiki/Artificial_intelligence)\n",
    "- [Quantum Machine Intelligence](https://link.springer.com/article/10.1007/s42484-019-00006-5)\n",
    "- [What Estimator to Use](https://scikit-learn.org/stable/tutorial/machine_learning_map/index.html)\n",
    "    "
   ]
  }
 ],
 "metadata": {
  "kernelspec": {
   "display_name": "Python 3",
   "language": "python",
   "name": "python3"
  },
  "language_info": {
   "codemirror_mode": {
    "name": "ipython",
    "version": 3
   },
   "file_extension": ".py",
   "mimetype": "text/x-python",
   "name": "python",
   "nbconvert_exporter": "python",
   "pygments_lexer": "ipython3",
   "version": "3.8.5"
  }
 },
 "nbformat": 4,
 "nbformat_minor": 5
}
