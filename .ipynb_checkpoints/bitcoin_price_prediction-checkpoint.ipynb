{
 "cells": [
  {
   "cell_type": "markdown",
   "id": "banned-support",
   "metadata": {},
   "source": [
    "# 1 day machine learning bitcoin price prediciton ml project \n"
   ]
  },
  {
   "cell_type": "code",
   "execution_count": null,
   "id": "imposed-cooperative",
   "metadata": {},
   "outputs": [],
   "source": []
  },
  {
   "cell_type": "markdown",
   "id": "magnetic-brown",
   "metadata": {},
   "source": [
    "# Me Navigating My Way Through the World of Data Science\n",
    "\n",
    "<br/><br/>\n",
    "\n",
    "\n",
    "<img src=\"photo/climbing.jpg\" width = \"60%\">\n",
    "\n",
    "\n",
    "<br/><br/>\n",
    "\n",
    "### About Me:\n",
    "\n",
    "I spend a lot of time climbing, playing music, and adventuring, but have started to miss my STEM roots. Machine learning application is something I feel naturally passionate about so I am doing all these projects for fun to discover if its something I want to persue. Please leave any comments and tell me what I need to improve!! Thank you! Also feel free to go critique my github, I could use any feedback I can get.\n",
    "\n",
    "__email:__ jamorsicato@gmail.com\n",
    "\n",
    "__github:__ https://github.com/jamorsicato\n",
    "\n",
    "__Linekdin:__ https://www.linkedin.com/in/jonathan-morsicato-089977196/\n",
    "\n",
    "__instagram:__ @jonnymorsicato (if you feel like checking out some Colorado mountain adventures)\n",
    "\n"
   ]
  },
  {
   "cell_type": "code",
   "execution_count": 9,
   "id": "facial-serial",
   "metadata": {},
   "outputs": [],
   "source": [
    "# General imports \n",
    "\n",
    "import numpy as np \n",
    "import pandas as pd\n",
    "import sklearn\n",
    "from sklearn.model_selection import train_test_split\n",
    "from sklearn import preprocessing\n",
    "from sklearn.metrics import mean_squared_error, r2_score\n",
    "\n",
    "# family imports\n",
    "## families are a broad type of model\n",
    "from sklearn.ensemble import RandomForestRegressor\n",
    "\n",
    "# cross validation tools\n",
    "from sklearn.pipeline import make_pipeline\n",
    "from sklearn.model_selection import GridSearchCV\n",
    "\n",
    "# plotting imports \n",
    "import matplotlib.pyplot as plt\n",
    "\n",
    "# alternative to pickle and save our model for the future\n",
    "## from sklearn.externals import joblib !!!! This didnt load, maybe we will use pickle at the end to save our model \n",
    "import pickle"
   ]
  },
  {
   "cell_type": "markdown",
   "id": "incorrect-encoding",
   "metadata": {},
   "source": [
    "## Workflow\n",
    "- Where are we gonna get the data? (Do not take data at a very high rate DDOS) (Contact Companies)\n",
    "- "
   ]
  }
 ],
 "metadata": {
  "kernelspec": {
   "display_name": "Python 3",
   "language": "python",
   "name": "python3"
  },
  "language_info": {
   "codemirror_mode": {
    "name": "ipython",
    "version": 3
   },
   "file_extension": ".py",
   "mimetype": "text/x-python",
   "name": "python",
   "nbconvert_exporter": "python",
   "pygments_lexer": "ipython3",
   "version": "3.8.5"
  }
 },
 "nbformat": 4,
 "nbformat_minor": 5
}
